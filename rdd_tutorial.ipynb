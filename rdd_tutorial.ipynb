{
 "cells": [
  {
   "cell_type": "code",
   "execution_count": 1,
   "id": "9e08a01a",
   "metadata": {},
   "outputs": [],
   "source": [
    "# https://www.youtube.com/watch?v=e5ol7oyKV0A&list=PL9ooVrP1hQOEBF5zdCdoMs2l1wws6be2X&index=4"
   ]
  },
  {
   "cell_type": "code",
   "execution_count": 2,
   "metadata": {},
   "outputs": [
    {
     "name": "stderr",
     "output_type": "stream",
     "text": [
      "Setting default log level to \"WARN\".\n",
      "To adjust logging level use sc.setLogLevel(newLevel). For SparkR, use setLogLevel(newLevel).\n"
     ]
    },
    {
     "name": "stdout",
     "output_type": "stream",
     "text": [
      "22/10/08 23:33:34 WARN NativeCodeLoader: Unable to load native-hadoop library for your platform... using builtin-java classes where applicable\n"
     ]
    }
   ],
   "source": [
    "# importing libraries\n",
    "import os\n",
    "import re\n",
    "from pyspark.sql import SparkSession\n",
    "\n",
    "spark=SparkSession.builder.appName('dataFrame').getOrCreate()\n",
    "\n",
    "sc = spark.sparkContext\n"
   ]
  },
  {
   "cell_type": "code",
   "execution_count": 3,
   "id": "fd4ad761",
   "metadata": {},
   "outputs": [
    {
     "name": "stderr",
     "output_type": "stream",
     "text": [
      "                                                                                \r"
     ]
    },
    {
     "data": {
      "text/plain": [
       "[('ross', 19),\n",
       " ('joey', 18),\n",
       " ('rachel', 16),\n",
       " ('phobe', 18),\n",
       " ('chandler', 17),\n",
       " ('monica', 20)]"
      ]
     },
     "execution_count": 3,
     "metadata": {},
     "output_type": "execute_result"
    }
   ],
   "source": [
    "# Reading a file\n",
    "\n",
    "# distributed across multiple nodes\n",
    "myRDD = sc.parallelize([(\"ross\", 19), (\"joey\", 18), (\"rachel\", 16), (\"phobe\", 18), (\"chandler\", 17), (\"monica\", 20)], numSlices=4) # distribute across multiple nodes\n",
    "# collect: transfer data from worker node to \n",
    "# take: return the first x arguments\n",
    "myRDD.take(6)\n",
    "\n"
   ]
  },
  {
   "cell_type": "code",
   "execution_count": 4,
   "id": "772627f9",
   "metadata": {},
   "outputs": [
    {
     "data": {
      "text/plain": [
       "['Bitcoin (abbreviation: BTC; sign: ₿) is a decentralized digital currency that can be transferred on the peer-to-peer bitcoin network.[7] Bitcoin transactions are verified by network nodes through cryptography and recorded in a public distributed ledger called a blockchain. The cryptocurrency was invented in 2008 by an unknown person or group of people using the name Satoshi Nakamoto.[10] The currency began use in 2009,[11] when its implementation was released as open-source software.[6]:\\u200ach. 1\\u200a']"
      ]
     },
     "execution_count": 4,
     "metadata": {},
     "output_type": "execute_result"
    }
   ],
   "source": [
    "# Reading txt\n",
    "textRDD = sc.textFile(\"data/sample.txt\", minPartitions=4)\n",
    "textRDD.take(1)"
   ]
  },
  {
   "cell_type": "code",
   "execution_count": 5,
   "id": "cd32c353",
   "metadata": {},
   "outputs": [
    {
     "data": {
      "text/plain": [
       "[['sofifa_id,player_url,short_name,long_name,age,dob,height_cm,weight_kg,nationality,club,overall,potential,value_eur,wage_eur,player_positions,preferred_foot,international_reputation,weak_foot,skill_moves,work_rate,body_type,real_face,release_clause_eur,player_tags,team_position,team_jersey_number,loaned_from,joined,contract_valid_until,nation_position,nation_jersey_number,pace,shooting,passing,dribbling,defending,physic,gk_diving,gk_handling,gk_kicking,gk_reflexes,gk_speed,gk_positioning,player_traits,attacking_crossing,attacking_finishing,attacking_heading_accuracy,attacking_short_passing,attacking_volleys,skill_dribbling,skill_curve,skill_fk_accuracy,skill_long_passing,skill_ball_control,movement_acceleration,movement_sprint_speed,movement_agility,movement_reactions,movement_balance,power_shot_power,power_jumping,power_stamina,power_strength,power_long_shots,mentality_aggression,mentality_interceptions,mentality_positioning,mentality_vision,mentality_penalties,mentality_composure,defending_marking,defending_standing_tackle,defending_sliding_tackle,goalkeeping_diving,goalkeeping_handling,goalkeeping_kicking,goalkeeping_positioning,goalkeeping_reflexes,ls,st,rs,lw,lf,cf,rf,rw,lam,cam,ram,lm,lcm,cm,rcm,rm,lwb,ldm,cdm,rdm,rwb,lb,lcb,cb,rcb,rb'],\n",
       " ['20801,https://sofifa.com/player/20801/c-ronaldo-dos-santos-aveiro/19/159222,Cristiano Ronaldo,Cristiano Ronaldo dos Santos Aveiro,33,1985-02-05,187,83,Portugal,Juventus,94,94,77000000,405000,\"ST, LW\",Right,5,4,5,High/Low,C. Ronaldo,Yes,127100000,\"#Speedster, #Dribbler, #Distance Shooter, #Acrobat, #Clinical Finisher, #Complete Forward\",LW,7,,2018-07-10,2022,LS,7,90,93,81,89,35,79,,,,,,,\"Power Free-Kick, Diver, Flair, Long Shot Taker (CPU AI Only), Speed Dribbler (CPU AI Only), Through Ball\",84,94,89,81,87,88,81,76,77,94,89,91,87,96,70,95,95,88,79,93,63,29,95,82,85,95,28,31,23,7,11,15,14,11,91+3,91+3,91+3,89+3,90+3,90+3,90+3,89+3,88+3,88+3,88+3,88+3,81+3,81+3,81+3,88+3,65+3,61+3,61+3,61+3,65+3,61+3,53+3,53+3,53+3,61+3']]"
      ]
     },
     "execution_count": 5,
     "metadata": {},
     "output_type": "execute_result"
    }
   ],
   "source": [
    "# Reading csv\n",
    "csvRDD = sc.textFile(\"data/fifa_player.csv\", minPartitions=4).map(lambda element: element.split(\"\\t\")) # split by tab delimiter\n",
    "csvRDD.take(2)\n",
    "\n"
   ]
  },
  {
   "cell_type": "code",
   "execution_count": 6,
   "id": "112175e0",
   "metadata": {},
   "outputs": [
    {
     "name": "stdout",
     "output_type": "stream",
     "text": [
      "4\n",
      "17771\n"
     ]
    }
   ],
   "source": [
    "print(csvRDD.getNumPartitions())\n",
    "\n",
    "print(csvRDD.count())"
   ]
  },
  {
   "cell_type": "code",
   "execution_count": 7,
   "id": "6e7e22cd",
   "metadata": {},
   "outputs": [
    {
     "data": {
      "text/plain": [
       "[['bitcoin',\n",
       "  '(abbreviation:',\n",
       "  'btc;',\n",
       "  'sign:',\n",
       "  '₿)',\n",
       "  'is',\n",
       "  'a',\n",
       "  'decentralized',\n",
       "  'digital',\n",
       "  'currency',\n",
       "  'that',\n",
       "  'can',\n",
       "  'be',\n",
       "  'transferred',\n",
       "  'on',\n",
       "  'the',\n",
       "  'peer-to-peer',\n",
       "  'bitcoin',\n",
       "  'network.[7]',\n",
       "  'bitcoin',\n",
       "  'transactions',\n",
       "  'are',\n",
       "  'verified',\n",
       "  'by',\n",
       "  'network',\n",
       "  'nodes',\n",
       "  'through',\n",
       "  'cryptography',\n",
       "  'and',\n",
       "  'recorded',\n",
       "  'in',\n",
       "  'a',\n",
       "  'public',\n",
       "  'distributed',\n",
       "  'ledger',\n",
       "  'called',\n",
       "  'a',\n",
       "  'blockchain.',\n",
       "  'the',\n",
       "  'cryptocurrency',\n",
       "  'was',\n",
       "  'invented',\n",
       "  'in',\n",
       "  '2008',\n",
       "  'by',\n",
       "  'an',\n",
       "  'unknown',\n",
       "  'person',\n",
       "  'or',\n",
       "  'group',\n",
       "  'of',\n",
       "  'people',\n",
       "  'using',\n",
       "  'the',\n",
       "  'name',\n",
       "  'satoshi',\n",
       "  'nakamoto.[10]',\n",
       "  'the',\n",
       "  'currency',\n",
       "  'began',\n",
       "  'use',\n",
       "  'in',\n",
       "  '2009,[11]',\n",
       "  'when',\n",
       "  'its',\n",
       "  'implementation',\n",
       "  'was',\n",
       "  'released',\n",
       "  'as',\n",
       "  'open-source',\n",
       "  'software.[6]:',\n",
       "  'ch.',\n",
       "  '1']]"
      ]
     },
     "execution_count": 7,
     "metadata": {},
     "output_type": "execute_result"
    }
   ],
   "source": [
    "# User defined functions\n",
    "def Func(lines):\n",
    "    lines = lines.lower()\n",
    "    lines = lines.split()\n",
    "    return lines\n",
    "\n",
    "split_rdd = textRDD.map(Func) # for each and every element on RDD\n",
    "split_rdd.take(1)\n"
   ]
  },
  {
   "cell_type": "code",
   "execution_count": 8,
   "id": "ea2038b8",
   "metadata": {},
   "outputs": [
    {
     "data": {
      "text/plain": [
       "['bitcoin', '(abbreviation:', 'btc;', 'sign:', '₿)']"
      ]
     },
     "execution_count": 8,
     "metadata": {},
     "output_type": "execute_result"
    }
   ],
   "source": [
    "# flatMap: similar to map, but output is flatten\n",
    "RDD = textRDD.flatMap(Func)\n",
    "RDD.take(5)"
   ]
  },
  {
   "cell_type": "code",
   "execution_count": 9,
   "id": "e2262647",
   "metadata": {},
   "outputs": [
    {
     "data": {
      "text/plain": [
       "['bitcoin', '(abbreviation:', 'btc;', 'sign:', '₿)', 'is']"
      ]
     },
     "execution_count": 9,
     "metadata": {},
     "output_type": "execute_result"
    }
   ],
   "source": [
    "stopwords = [\"a\", \"all\", \"the\", \"some\"]\n",
    "\n",
    "RDD1 = RDD.filter(lambda x: x not in stopwords)\n",
    "RDD1.take(6)"
   ]
  },
  {
   "cell_type": "code",
   "execution_count": 10,
   "id": "9d0ca9d8",
   "metadata": {},
   "outputs": [
    {
     "data": {
      "text/plain": [
       "['ch.', 'compound', 'coin.[13]', 'capitalized,', 'capacity.']"
      ]
     },
     "execution_count": 10,
     "metadata": {},
     "output_type": "execute_result"
    }
   ],
   "source": [
    "# Filtering\n",
    "filteredRDD = RDD.filter(lambda x: x.startswith(\"c\"))\n",
    "filteredRDD.distinct().take(5)"
   ]
  },
  {
   "cell_type": "code",
   "execution_count": 11,
   "id": "8cf34ec1",
   "metadata": {},
   "outputs": [
    {
     "data": {
      "text/plain": [
       "[(15, 'the'),\n",
       " (12, 'bitcoin'),\n",
       " (7, 'in'),\n",
       " (7, 'a'),\n",
       " (6, 'of'),\n",
       " (5, 'by'),\n",
       " (5, 'and'),\n",
       " (5, 'to'),\n",
       " (4, 'has'),\n",
       " (4, 'use')]"
      ]
     },
     "execution_count": 11,
     "metadata": {},
     "output_type": "execute_result"
    }
   ],
   "source": [
    "# Group by\n",
    "rdd_mapped = RDD.map(lambda x: (x, 1))\n",
    "rdd_grouped = rdd_mapped.groupByKey()\n",
    "rdd_frequency = rdd_grouped.mapValues(sum).map(lambda x: (x[1], x[0])).sortByKey(False)\n",
    "rdd_frequency.take(10)"
   ]
  },
  {
   "cell_type": "code",
   "execution_count": 12,
   "id": "1546c46e",
   "metadata": {},
   "outputs": [
    {
     "data": {
      "text/plain": [
       "150"
      ]
     },
     "execution_count": 12,
     "metadata": {},
     "output_type": "execute_result"
    }
   ],
   "source": [
    "# Distinct and count\n",
    "RDD2 = RDD1.distinct()\n",
    "RDD2.count()"
   ]
  },
  {
   "cell_type": "code",
   "execution_count": 13,
   "id": "954f518b",
   "metadata": {},
   "outputs": [
    {
     "data": {
      "text/plain": [
       "['bitcoin', '(abbreviation:', 'sign:', 'transferred', 'peer-to-peer']"
      ]
     },
     "execution_count": 13,
     "metadata": {},
     "output_type": "execute_result"
    }
   ],
   "source": [
    "RDD2.take(5)"
   ]
  },
  {
   "cell_type": "code",
   "execution_count": 14,
   "id": "a5a13d35",
   "metadata": {},
   "outputs": [
    {
     "name": "stdout",
     "output_type": "stream",
     "text": [
      "[('sig', ['sign:']), ('pee', ['peer-to-peer']), ('are', ['are']), ('in', ['in']), ('was', ['was'])]\n"
     ]
    }
   ],
   "source": [
    "# Group by\n",
    "RDD3 = RDD2.groupBy(lambda w: w[0:3])\n",
    "print([(k, list(v)) for (k, v) in RDD3.take(5)])"
   ]
  },
  {
   "cell_type": "code",
   "execution_count": 15,
   "id": "f9029d02",
   "metadata": {},
   "outputs": [],
   "source": [
    "sampled_RDD = RDD1.sample(withReplacement=False, fraction=0.1)"
   ]
  },
  {
   "cell_type": "code",
   "execution_count": 16,
   "id": "3760b4de",
   "metadata": {},
   "outputs": [
    {
     "data": {
      "text/plain": [
       "12"
      ]
     },
     "execution_count": 16,
     "metadata": {},
     "output_type": "execute_result"
    }
   ],
   "source": [
    "sampled_RDD.count()"
   ]
  },
  {
   "cell_type": "code",
   "execution_count": 17,
   "id": "7192a2cb",
   "metadata": {},
   "outputs": [
    {
     "data": {
      "text/plain": [
       "['(abbreviation:', 'called', '2008']"
      ]
     },
     "execution_count": 17,
     "metadata": {},
     "output_type": "execute_result"
    }
   ],
   "source": [
    "sampled_RDD.take(3)"
   ]
  },
  {
   "cell_type": "code",
   "execution_count": 18,
   "id": "dd6e9ffd",
   "metadata": {},
   "outputs": [
    {
     "name": "stderr",
     "output_type": "stream",
     "text": [
      "                                                                                \r"
     ]
    },
    {
     "data": {
      "text/plain": [
       "[('b', (3, 7)), ('a', (2, 9))]"
      ]
     },
     "execution_count": 18,
     "metadata": {},
     "output_type": "execute_result"
    }
   ],
   "source": [
    "# Joins\n",
    "a = sc.parallelize([(\"a\", 2), (\"b\", 3)]) \n",
    "b = sc.parallelize([(\"a\", 9), (\"b\", 7), (\"c\", 10)]) \n",
    "\n",
    "c = a.join(b)\n",
    "c.collect()"
   ]
  },
  {
   "cell_type": "code",
   "execution_count": 19,
   "id": "ed65b780",
   "metadata": {},
   "outputs": [
    {
     "name": "stderr",
     "output_type": "stream",
     "text": [
      "                                                                                \r"
     ]
    },
    {
     "data": {
      "text/plain": [
       "[('b', (3, 7)), ('a', (2, 9)), ('c', (None, 10))]"
      ]
     },
     "execution_count": 19,
     "metadata": {},
     "output_type": "execute_result"
    }
   ],
   "source": [
    "# Right outer join\n",
    "d = a.rightOuterJoin(b)\n",
    "d.collect()"
   ]
  },
  {
   "cell_type": "code",
   "execution_count": 20,
   "id": "040f30fa",
   "metadata": {},
   "outputs": [
    {
     "data": {
      "text/plain": [
       "1249975000"
      ]
     },
     "execution_count": 20,
     "metadata": {},
     "output_type": "execute_result"
    }
   ],
   "source": [
    "# Reduce\n",
    "num_rdd = sc.parallelize(range(1,50000))\n",
    "num_rdd.reduce(lambda x,y: x+y) # sum from 1 to 50000"
   ]
  },
  {
   "cell_type": "code",
   "execution_count": 21,
   "id": "37731674",
   "metadata": {},
   "outputs": [
    {
     "data": {
      "text/plain": [
       "[('b', 6), ('c', 4), ('a', 8)]"
      ]
     },
     "execution_count": 21,
     "metadata": {},
     "output_type": "execute_result"
    }
   ],
   "source": [
    "# Reduce by Key\n",
    "data_keydata = sc.parallelize(c=[(\"a\", 4), (\"b\", 3), (\"c\", 2), (\"a\", 4), (\"b\", 3), (\"c\", 2)], numSlices=4)\n",
    "data_keydata.reduceByKey(lambda x, y: x+y).collect()"
   ]
  },
  {
   "cell_type": "code",
   "execution_count": 23,
   "id": "6157f013",
   "metadata": {},
   "outputs": [],
   "source": [
    "# Save as text file\n",
    "outputFilePath = os.path.join(os.getcwd(), \"output.txt\")\n",
    "\n",
    "myRDD = sc.parallelize([(\"ross\", 19), (\"joey\", 18), (\"rachel\", 16), (\"phobe\", 18), (\"chandler\", 17), (\"monica\", 20)], numSlices=2) # distribute across multiple nodes\n",
    "myRDD.saveAsTextFile(outputFilePath)"
   ]
  },
  {
   "cell_type": "code",
   "execution_count": 24,
   "id": "c8ccaffc",
   "metadata": {},
   "outputs": [
    {
     "data": {
      "text/plain": [
       "[('phobe', 18),\n",
       " ('chandler', 17),\n",
       " ('monica', 20),\n",
       " ('ross', 19),\n",
       " ('joey', 18),\n",
       " ('rachel', 16)]"
      ]
     },
     "execution_count": 24,
     "metadata": {},
     "output_type": "execute_result"
    }
   ],
   "source": [
    "# Read from text file\n",
    "RDD_read = sc.textFile(outputFilePath).map(lambda x: eval(x))\n",
    "RDD_read.collect()"
   ]
  },
  {
   "cell_type": "code",
   "execution_count": 25,
   "id": "02f2d151",
   "metadata": {},
   "outputs": [
    {
     "data": {
      "text/plain": [
       "[('1', 3), ('2', 3), ('a', 4), ('b', 3), ('d', 4)]"
      ]
     },
     "execution_count": 25,
     "metadata": {},
     "output_type": "execute_result"
    }
   ],
   "source": [
    "# Sort by Key\n",
    "test = [(\"a\", 4), (\"b\", 3), (\"1\", 3), (\"d\", 4), (\"2\", 3),]\n",
    "sc.parallelize(test).sortByKey(True, 1).collect()"
   ]
  },
  {
   "cell_type": "code",
   "execution_count": 26,
   "id": "4c22d011",
   "metadata": {},
   "outputs": [
    {
     "data": {
      "text/plain": [
       "[1, 1, 2, 3, 1, 1, 2, 3]"
      ]
     },
     "execution_count": 26,
     "metadata": {},
     "output_type": "execute_result"
    }
   ],
   "source": [
    "# Sets: Union\n",
    "union_rdd = spark.sparkContext.parallelize([1, 1, 2, 3])\n",
    "union2 = spark.sparkContext.parallelize([1, 1, 2, 3])\n",
    "union_rdd.union(union2).collect()"
   ]
  },
  {
   "cell_type": "code",
   "execution_count": 27,
   "id": "eafaa206",
   "metadata": {},
   "outputs": [
    {
     "data": {
      "text/plain": [
       "[3, 7]"
      ]
     },
     "execution_count": 27,
     "metadata": {},
     "output_type": "execute_result"
    }
   ],
   "source": [
    "mpwi = spark.sparkContext.parallelize([1,2,3,4], 2) # map partition with index\n",
    "\n",
    "def f(splitIndex, iterator):\n",
    "    yield sum(iterator)\n",
    "\n",
    "mpwi.mapPartitionsWithIndex(f).collect()"
   ]
  },
  {
   "cell_type": "code",
   "execution_count": 28,
   "id": "181dff6e",
   "metadata": {},
   "outputs": [
    {
     "name": "stderr",
     "output_type": "stream",
     "text": [
      "                                                                                \r"
     ]
    },
    {
     "data": {
      "text/plain": [
       "[4]"
      ]
     },
     "execution_count": 28,
     "metadata": {},
     "output_type": "execute_result"
    }
   ],
   "source": [
    "sc = spark.sparkContext\n",
    "\n",
    "rdd_a = sc.parallelize([1,2,3,4])\n",
    "rdd_b = sc.parallelize([4,5,6,7])\n",
    "\n",
    "rdd_a.intersection(rdd_b).collect()"
   ]
  },
  {
   "cell_type": "code",
   "execution_count": 29,
   "id": "da794599",
   "metadata": {},
   "outputs": [
    {
     "name": "stderr",
     "output_type": "stream",
     "text": [
      "                                                                                \r"
     ]
    },
    {
     "data": {
      "text/plain": [
       "[1, 2, 3]"
      ]
     },
     "execution_count": 29,
     "metadata": {},
     "output_type": "execute_result"
    }
   ],
   "source": [
    "rdd_a.subtract(rdd_b).collect()"
   ]
  },
  {
   "cell_type": "code",
   "execution_count": 30,
   "id": "a836162c",
   "metadata": {},
   "outputs": [
    {
     "data": {
      "text/plain": [
       "[(1, 4),\n",
       " (1, 5),\n",
       " (1, 6),\n",
       " (1, 7),\n",
       " (2, 4),\n",
       " (2, 5),\n",
       " (2, 6),\n",
       " (2, 7),\n",
       " (3, 4),\n",
       " (3, 5),\n",
       " (3, 6),\n",
       " (3, 7),\n",
       " (4, 4),\n",
       " (4, 5),\n",
       " (4, 6),\n",
       " (4, 7)]"
      ]
     },
     "execution_count": 30,
     "metadata": {},
     "output_type": "execute_result"
    }
   ],
   "source": [
    "rdd_a.cartesian(rdd_b).collect()"
   ]
  },
  {
   "cell_type": "code",
   "execution_count": 31,
   "id": "c3acfc9e",
   "metadata": {},
   "outputs": [],
   "source": [
    "pageLinks = [\"a\", [\"b\", \"c\", \"d\"]], [\"b\", [\"d\", \"c\"]], [\"c\", [\"b\"]], [\"d\", [\"a\", \"c\"]]\n",
    "pageRanks = [[\"a\", 1], [\"b\", 1], [\"c\", 1], [\"d\", 1]]"
   ]
  },
  {
   "cell_type": "code",
   "execution_count": 32,
   "id": "1ee5a790",
   "metadata": {},
   "outputs": [],
   "source": [
    "def rankContribution(uris, rank):\n",
    "    numberofUris = len(uris)\n",
    "    rankContribution = float(rank) / numberofUris\n",
    "    newRank = []\n",
    "    for uri in uris:\n",
    "        newRank.append((uri, rankContribution))\n",
    "    return newRank"
   ]
  },
  {
   "cell_type": "code",
   "execution_count": 33,
   "id": "124e6ed3",
   "metadata": {},
   "outputs": [
    {
     "data": {
      "text/plain": [
       "[['a', ['b', 'c', 'd']], ['b', ['d', 'c']], ['c', ['b']], ['d', ['a', 'c']]]"
      ]
     },
     "execution_count": 33,
     "metadata": {},
     "output_type": "execute_result"
    }
   ],
   "source": [
    "pageLinksRDD = sc.parallelize(pageLinks, 2)\n",
    "pageLinksRDD.collect()"
   ]
  },
  {
   "cell_type": "code",
   "execution_count": 34,
   "id": "4b2d7f19",
   "metadata": {},
   "outputs": [
    {
     "data": {
      "text/plain": [
       "[['a', 1], ['b', 1], ['c', 1], ['d', 1]]"
      ]
     },
     "execution_count": 34,
     "metadata": {},
     "output_type": "execute_result"
    }
   ],
   "source": [
    "pageRanksRDD = sc.parallelize(pageRanks, 2)\n",
    "pageRanksRDD.collect()"
   ]
  },
  {
   "cell_type": "code",
   "execution_count": 35,
   "id": "c89e0aae",
   "metadata": {},
   "outputs": [
    {
     "name": "stderr",
     "output_type": "stream",
     "text": [
      "                                                                                \r"
     ]
    },
    {
     "data": {
      "text/plain": [
       "[('a', 0.5217268024809147),\n",
       " ('b', 1.357243795127982),\n",
       " ('c', 1.2463781024360086),\n",
       " ('d', 0.8746512999550939)]"
      ]
     },
     "execution_count": 35,
     "metadata": {},
     "output_type": "execute_result"
    }
   ],
   "source": [
    "numIter = 20\n",
    "s = 0.85\n",
    "\n",
    "for i in range(numIter):\n",
    "    linksRank = pageLinksRDD.join(pageRanksRDD)\n",
    "    contributedRDD = linksRank.flatMap(lambda x: rankContribution(x[1][0], x[1][1]))\n",
    "    sumRanks = contributedRDD.reduceByKey(lambda v1, v2: v1 + v2)\n",
    "    pageRanksRDD = sumRanks.map(lambda x: (x[0], (1-s)+s*x[1]))\n",
    "\n",
    "pageRanksRDD.collect()"
   ]
  },
  {
   "cell_type": "code",
   "execution_count": null,
   "id": "31938bfc",
   "metadata": {},
   "outputs": [],
   "source": []
  }
 ],
 "metadata": {
  "kernelspec": {
   "display_name": "Python 3.10.4 ('pyspark')",
   "language": "python",
   "name": "python3"
  },
  "language_info": {
   "codemirror_mode": {
    "name": "ipython",
    "version": 3
   },
   "file_extension": ".py",
   "mimetype": "text/x-python",
   "name": "python",
   "nbconvert_exporter": "python",
   "pygments_lexer": "ipython3",
   "version": "3.10.4"
  },
  "vscode": {
   "interpreter": {
    "hash": "ebffaf55a6174f7b75557055c60ed382e8e9322a57afdb041521a469e3798192"
   }
  }
 },
 "nbformat": 4,
 "nbformat_minor": 5
}
