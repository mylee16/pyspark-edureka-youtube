{
 "cells": [
  {
   "cell_type": "code",
   "execution_count": 1,
   "metadata": {},
   "outputs": [],
   "source": [
    "# https://www.youtube.com/watch?v=dq73Ghk3MQg&list=PL9ooVrP1hQOEBF5zdCdoMs2l1wws6be2X&index=5"
   ]
  },
  {
   "cell_type": "code",
   "execution_count": 2,
   "metadata": {},
   "outputs": [],
   "source": [
    "from pyspark.sql import *\n",
    "\n",
    "Employee = Row(\"firstName\", \"lastName\", \"email\", \"salary\")\n",
    "\n",
    "employee1 = Employee(\"a\", \"ln_a\", \"a1\", 100)\n",
    "employee2 = Employee(\"b\", \"ln_b\", \"b1\", 200)\n",
    "employee3 = Employee(\"c\", None, \"c1\", 300)\n",
    "employee4 = Employee(\"d\", \"ln_d\", \"d1\", 400)\n",
    "employee5 = Employee(\"e\", \"ln_e\", \"e1\", 500)\n",
    "\n",
    "department1 = Row(id=\"123\", name=\"HR\")\n",
    "department2 = Row(id=\"456\", name=\"OPS\")\n",
    "department3 = Row(id=\"789\", name=\"FN\")\n",
    "department4 = Row(id=\"101\", name=\"DEV\")"
   ]
  },
  {
   "cell_type": "code",
   "execution_count": 3,
   "metadata": {},
   "outputs": [
    {
     "name": "stdout",
     "output_type": "stream",
     "text": [
      "firstName\n",
      "Row(id='101', name='DEV')\n"
     ]
    }
   ],
   "source": [
    "print(Employee[0])\n",
    "print(department4)"
   ]
  },
  {
   "cell_type": "code",
   "execution_count": 4,
   "metadata": {},
   "outputs": [],
   "source": [
    "departmentWithEmployees1 = Row(department=department1, employees=[employee1, employee2, employee5])\n",
    "departmentWithEmployees2 = Row(department=department2, employees=[employee3, employee4])\n",
    "departmentWithEmployees3 = Row(department=department3, employees=[employee1, employee4, employee3])\n",
    "departmentWithEmployees4 = Row(department=department4, employees=[employee2, employee3])\n"
   ]
  },
  {
   "cell_type": "code",
   "execution_count": 5,
   "metadata": {},
   "outputs": [
    {
     "name": "stderr",
     "output_type": "stream",
     "text": [
      "Setting default log level to \"WARN\".\n",
      "To adjust logging level use sc.setLogLevel(newLevel). For SparkR, use setLogLevel(newLevel).\n"
     ]
    },
    {
     "name": "stdout",
     "output_type": "stream",
     "text": [
      "22/10/09 00:43:44 WARN NativeCodeLoader: Unable to load native-hadoop library for your platform... using builtin-java classes where applicable\n"
     ]
    }
   ],
   "source": [
    "departmentsWithEmployees_Seq = [departmentWithEmployees1, departmentWithEmployees2]\n",
    "\n",
    "spark=SparkSession.builder.appName('dataFrame').getOrCreate()\n",
    "dframe = spark.createDataFrame(data=departmentsWithEmployees_Seq)"
   ]
  },
  {
   "cell_type": "code",
   "execution_count": 6,
   "metadata": {},
   "outputs": [
    {
     "data": {
      "text/plain": [
       "DataFrame[department: struct<id:string,name:string>, employees: array<struct<firstName:string,lastName:string,email:string,salary:bigint>>]"
      ]
     },
     "metadata": {},
     "output_type": "display_data"
    }
   ],
   "source": [
    "display(dframe)"
   ]
  },
  {
   "cell_type": "markdown",
   "metadata": {},
   "source": [
    "## Fifa World Cup Use Case"
   ]
  },
  {
   "cell_type": "code",
   "execution_count": 7,
   "metadata": {},
   "outputs": [
    {
     "name": "stdout",
     "output_type": "stream",
     "text": [
      "22/10/09 00:43:51 WARN CSVHeaderChecker: CSV header does not conform to the schema.\n",
      " Header: , sofifa_id, short_name, long_name, age, dob\n",
      " Schema: _c0, sofifa_id, short_name, long_name, age, dob\n",
      "Expected: _c0 but found: \n",
      "CSV file: file:///Users/mylee/dev/pyspark-edureka-youtube/data/fifa_player_concat.csv\n",
      "+---+---------+-----------------+--------------------+---+-------------------+\n",
      "|_c0|sofifa_id|       short_name|           long_name|age|                dob|\n",
      "+---+---------+-----------------+--------------------+---+-------------------+\n",
      "|  0|    20801|Cristiano Ronaldo|Cristiano Ronaldo...| 33|1985-02-05 00:00:00|\n",
      "|  1|   158023|         L. Messi|Lionel Andrés Mes...| 31|1987-06-24 00:00:00|\n",
      "|  2|   190871|        Neymar Jr|Neymar da Silva S...| 26|1992-02-05 00:00:00|\n",
      "|  3|   193080|           De Gea|David De Gea Quin...| 27|1990-11-07 00:00:00|\n",
      "|  4|   192985|     K. De Bruyne|     Kevin De Bruyne| 27|1991-06-28 00:00:00|\n",
      "+---+---------+-----------------+--------------------+---+-------------------+\n",
      "only showing top 5 rows\n",
      "\n"
     ]
    }
   ],
   "source": [
    "fifa_df = spark.read.csv(\"data/fifa_player_concat.csv\", inferSchema=True, header=True)\n",
    "fifa_df.show(5)"
   ]
  },
  {
   "cell_type": "code",
   "execution_count": 8,
   "metadata": {},
   "outputs": [
    {
     "name": "stdout",
     "output_type": "stream",
     "text": [
      "root\n",
      " |-- _c0: integer (nullable = true)\n",
      " |-- sofifa_id: integer (nullable = true)\n",
      " |-- short_name: string (nullable = true)\n",
      " |-- long_name: string (nullable = true)\n",
      " |-- age: integer (nullable = true)\n",
      " |-- dob: timestamp (nullable = true)\n",
      "\n",
      "None\n",
      "['_c0', 'sofifa_id', 'short_name', 'long_name', 'age', 'dob']\n",
      "17770\n"
     ]
    }
   ],
   "source": [
    "print(fifa_df.printSchema())\n",
    "print(fifa_df.columns)\n",
    "print(fifa_df.count())"
   ]
  },
  {
   "cell_type": "code",
   "execution_count": 9,
   "metadata": {},
   "outputs": [
    {
     "name": "stdout",
     "output_type": "stream",
     "text": [
      "+-------+-------------+\n",
      "|summary|   short_name|\n",
      "+-------+-------------+\n",
      "|  count|        17770|\n",
      "|   mean|         null|\n",
      "| stddev|         null|\n",
      "|    min|     A. Abang|\n",
      "|    max|Óscar Whalley|\n",
      "+-------+-------------+\n",
      "\n"
     ]
    },
    {
     "name": "stderr",
     "output_type": "stream",
     "text": [
      "                                                                                \r"
     ]
    }
   ],
   "source": [
    "fifa_df.describe(\"short_name\").show()"
   ]
  },
  {
   "cell_type": "code",
   "execution_count": 10,
   "metadata": {},
   "outputs": [
    {
     "name": "stdout",
     "output_type": "stream",
     "text": [
      "+-----------------+---+\n",
      "|       short_name|age|\n",
      "+-----------------+---+\n",
      "|Cristiano Ronaldo| 33|\n",
      "|         L. Messi| 31|\n",
      "|        Neymar Jr| 26|\n",
      "|           De Gea| 27|\n",
      "|     K. De Bruyne| 27|\n",
      "|     Sergio Ramos| 32|\n",
      "|        L. Suárez| 31|\n",
      "|        L. Modrić| 32|\n",
      "|        E. Hazard| 27|\n",
      "|         J. Oblak| 25|\n",
      "|      T. Courtois| 26|\n",
      "|         M. Neuer| 32|\n",
      "|         D. Godín| 32|\n",
      "|         T. Kroos| 28|\n",
      "|   R. Lewandowski| 29|\n",
      "|        P. Dybala| 24|\n",
      "|    M. ter Stegen| 26|\n",
      "|             Isco| 26|\n",
      "|          H. Kane| 24|\n",
      "|     A. Griezmann| 27|\n",
      "+-----------------+---+\n",
      "only showing top 20 rows\n",
      "\n"
     ]
    }
   ],
   "source": [
    "fifa_df.select(\"short_name\", \"age\").show()"
   ]
  },
  {
   "cell_type": "code",
   "execution_count": 11,
   "metadata": {},
   "outputs": [
    {
     "name": "stdout",
     "output_type": "stream",
     "text": [
      "22/10/09 00:43:53 WARN CSVHeaderChecker: CSV header does not conform to the schema.\n",
      " Header: , sofifa_id, short_name, long_name, age, dob\n",
      " Schema: _c0, sofifa_id, short_name, long_name, age, dob\n",
      "Expected: _c0 but found: \n",
      "CSV file: file:///Users/mylee/dev/pyspark-edureka-youtube/data/fifa_player_concat.csv\n",
      "+---+---------+-----------------+--------------------+---+-------------------+\n",
      "|_c0|sofifa_id|       short_name|           long_name|age|                dob|\n",
      "+---+---------+-----------------+--------------------+---+-------------------+\n",
      "|  0|    20801|Cristiano Ronaldo|Cristiano Ronaldo...| 33|1985-02-05 00:00:00|\n",
      "| 21|   138956|     G. Chiellini|   Giorgio Chiellini| 33|1984-08-14 00:00:00|\n",
      "| 33|   162835|    S. Handanovič|    Samir Handanovič| 33|1984-07-14 00:00:00|\n",
      "| 34|   164240|     Thiago Silva|Thiago Emiliano d...| 33|1984-09-22 00:00:00|\n",
      "| 63|   135507|      Fernandinho|  Fernando Luiz Rosa| 33|1985-05-04 00:00:00|\n",
      "| 99|   168609|          Miranda|João Miranda de S...| 33|1984-09-07 00:00:00|\n",
      "|192|   163705|      S. Mandanda|      Steve Mandanda| 33|1985-03-28 00:00:00|\n",
      "|207|   192593|       D. Subašić|     Danijel Subašić| 33|1984-10-27 00:00:00|\n",
      "|270|   104389|      R. Jarstein|Rune  Almenning J...| 33|1984-09-29 00:00:00|\n",
      "|290|   183498|        M. Parolo|        Marco Parolo| 33|1985-01-25 00:00:00|\n",
      "|361|   144622|          Raffael|Raffael Caetano d...| 33|1985-03-28 00:00:00|\n",
      "|366|   161956|     Borja Valero|Borja Valero Igle...| 33|1985-01-12 00:00:00|\n",
      "|369|   166706|        M. Škrtel|       Martin Škrtel| 33|1984-12-15 00:00:00|\n",
      "|374|   173771|      L. Piszczek|     Łukasz Piszczek| 33|1985-06-03 00:00:00|\n",
      "|378|   177326|      M. Valbuena|    Mathieu Valbuena| 33|1984-09-28 00:00:00|\n",
      "|480|   121944|B. Schweinsteiger|Bastian Schweinst...| 33|1984-08-01 00:00:00|\n",
      "|485|   146562|    Santi Cazorla|Santiago Cazorla ...| 33|1984-12-13 00:00:00|\n",
      "|487|   146760|         Juanfran|Juan Francisco To...| 33|1985-01-09 00:00:00|\n",
      "|492|   156713|     A. Granqvist|   Andreas Granqvist| 33|1985-04-16 00:00:00|\n",
      "|497|   163711|        L. Diarra|      Lassana Diarra| 33|1985-03-10 00:00:00|\n",
      "+---+---------+-----------------+--------------------+---+-------------------+\n",
      "only showing top 20 rows\n",
      "\n"
     ]
    }
   ],
   "source": [
    "fifa_df.filter(fifa_df.age == 33).show()"
   ]
  },
  {
   "cell_type": "code",
   "execution_count": 12,
   "metadata": {},
   "outputs": [
    {
     "data": {
      "text/plain": [
       "401"
      ]
     },
     "execution_count": 12,
     "metadata": {},
     "output_type": "execute_result"
    }
   ],
   "source": [
    "fifa_df.filter(fifa_df.age == 33).count()"
   ]
  },
  {
   "cell_type": "code",
   "execution_count": 13,
   "metadata": {},
   "outputs": [
    {
     "data": {
      "text/plain": [
       "971"
      ]
     },
     "execution_count": 13,
     "metadata": {},
     "output_type": "execute_result"
    }
   ],
   "source": [
    "fifa_df.filter((fifa_df.age == 33) | (fifa_df.age == 32)).count()"
   ]
  },
  {
   "cell_type": "code",
   "execution_count": 14,
   "metadata": {},
   "outputs": [
    {
     "name": "stdout",
     "output_type": "stream",
     "text": [
      "22/10/09 00:43:54 WARN CSVHeaderChecker: CSV header does not conform to the schema.\n",
      " Header: , sofifa_id, short_name, long_name, age, dob\n",
      " Schema: _c0, sofifa_id, short_name, long_name, age, dob\n",
      "Expected: _c0 but found: \n",
      "CSV file: file:///Users/mylee/dev/pyspark-edureka-youtube/data/fifa_player_concat.csv\n",
      "+-----+---------+--------------+--------------------+---+-------------------+\n",
      "|  _c0|sofifa_id|    short_name|           long_name|age|                dob|\n",
      "+-----+---------+--------------+--------------------+---+-------------------+\n",
      "|11749|   245616|Pelayo Morilla|Pelayo Morilla Cabal| 16|2001-07-12 00:00:00|\n",
      "|17749|   241638|     B. Worman|          Ben Worman| 16|2001-08-30 00:00:00|\n",
      "|14894|   243169|   Y. Begraoui|      Yanis Begraoui| 16|2001-07-04 00:00:00|\n",
      "|10857|   244403|      A. Taoui|          Adil Taoui| 16|2001-08-10 00:00:00|\n",
      "|14950|   245015|     Y. Roemer|     Yahcuroo Roemer| 16|2001-07-22 00:00:00|\n",
      "|17297|   245123|  A. Mahlonoko| Augustine Mahlonoko| 16|2001-08-17 00:00:00|\n",
      "|17724|   244925|F. Tauchhammer|  Fabian Tauchhammer| 16|2001-08-17 00:00:00|\n",
      "|17316|   244752|     J. Olstad|        Johan Olstad| 16|2001-08-23 00:00:00|\n",
      "|15384|   241552|   J. Italiano|      Jacob Italiano| 16|2001-07-30 00:00:00|\n",
      "|17318|   246009|      M. Tilio|         Marco Tilio| 16|2001-08-23 00:00:00|\n",
      "|16241|   242531|   J. Kitolano|Joshua Gaston Kit...| 16|2001-08-03 00:00:00|\n",
      "|17336|   242165|      R. Hauge|         Runar Hauge| 16|2001-09-01 00:00:00|\n",
      "|16638|   245171|  H. Andersson|    Helmer Andersson| 16|2001-09-08 00:00:00|\n",
      "|17459|   243646|     B. Nygren|     Benjamin Nygren| 16|2001-07-08 00:00:00|\n",
      "|17278|   245537|      E. Ceide|Emil Konradsen Ceide| 16|2001-09-03 00:00:00|\n",
      "|17469|   243891|     M. Larsen|         Mads Larsen| 16|2001-09-20 00:00:00|\n",
      "|10684|   241266|   W. Geubbels|     Willem Geubbels| 16|2001-08-16 00:00:00|\n",
      "|17689|   245808|  G. Hollywood|      Glen Hollywood| 16|2001-07-17 00:00:00|\n",
      "|16560|   245341|    C. Bassett|        Cole Bassett| 16|2001-07-28 00:00:00|\n",
      "|17721|   243621|      N. Ayéva|         Nadir Ayéva| 16|2001-09-09 00:00:00|\n",
      "+-----+---------+--------------+--------------------+---+-------------------+\n",
      "only showing top 20 rows\n",
      "\n"
     ]
    }
   ],
   "source": [
    "fifa_df.orderBy(fifa_df.age).show()"
   ]
  },
  {
   "cell_type": "code",
   "execution_count": 15,
   "metadata": {},
   "outputs": [
    {
     "name": "stderr",
     "output_type": "stream",
     "text": [
      "/Users/mylee/miniconda3/envs/pyspark/lib/python3.10/site-packages/pyspark/sql/dataframe.py:229: FutureWarning: Deprecated in 2.0, use createOrReplaceTempView instead.\n",
      "  warnings.warn(\"Deprecated in 2.0, use createOrReplaceTempView instead.\", FutureWarning)\n"
     ]
    }
   ],
   "source": [
    "fifa_df.registerTempTable(\"fifa_table\")"
   ]
  },
  {
   "cell_type": "code",
   "execution_count": 16,
   "metadata": {},
   "outputs": [
    {
     "name": "stdout",
     "output_type": "stream",
     "text": [
      "22/10/09 00:43:54 WARN CSVHeaderChecker: CSV header does not conform to the schema.\n",
      " Header: , sofifa_id, short_name, long_name, age, dob\n",
      " Schema: _c0, sofifa_id, short_name, long_name, age, dob\n",
      "Expected: _c0 but found: \n",
      "CSV file: file:///Users/mylee/dev/pyspark-edureka-youtube/data/fifa_player_concat.csv\n",
      "+---+---------+------------+--------------------+---+-------------------+\n",
      "|_c0|sofifa_id|  short_name|           long_name|age|                dob|\n",
      "+---+---------+------------+--------------------+---+-------------------+\n",
      "|  5|   155862|Sergio Ramos| Sergio Ramos García| 32|1986-03-30 00:00:00|\n",
      "|  7|   177003|   L. Modrić|         Luka Modrić| 32|1985-09-09 00:00:00|\n",
      "| 11|   167495|    M. Neuer|        Manuel Neuer| 32|1986-03-27 00:00:00|\n",
      "| 12|   182493|    D. Godín|         Diego Godín| 32|1986-02-16 00:00:00|\n",
      "| 23|   168542| David Silva|David Josué Jimén...| 32|1986-01-08 00:00:00|\n",
      "| 95|   139720|  V. Kompany|     Vincent Kompany| 32|1986-04-10 00:00:00|\n",
      "| 97|   164169| Filipe Luís|Filipe Luís Kasmi...| 32|1985-08-09 00:00:00|\n",
      "| 98|   167397|      Falcao|Radamel Falcao Ga...| 32|1986-02-10 00:00:00|\n",
      "|104|   180930|    E. Džeko|          Edin Džeko| 32|1986-03-17 00:00:00|\n",
      "|137|   157481| Raúl Albiol|Raúl Albiol Torta...| 32|1985-09-04 00:00:00|\n",
      "|148|   181783|M. Mandžukić|     Mario Mandžukić| 32|1986-05-21 00:00:00|\n",
      "|193|   168354|  E. Viviano|    Emiliano Viviano| 32|1985-12-01 00:00:00|\n",
      "|273|   158963|   L. Biglia|Lucas Rodrigo Biglia| 32|1986-01-30 00:00:00|\n",
      "|275|   165229|L. Koscielny|   Laurent Koscielny| 32|1985-09-10 00:00:00|\n",
      "|276|   167905| A. Valencia|Luis Antonio Vale...| 32|1985-08-04 00:00:00|\n",
      "|278|   168530|      Jardel|Jardel Nivaldo Vi...| 32|1986-03-29 00:00:00|\n",
      "|287|   181786|  V. Ćorluka|      Vedran Ćorluka| 32|1986-02-05 00:00:00|\n",
      "|288|   183280|     A. Rami|           Adil Rami| 32|1985-12-27 00:00:00|\n",
      "|296|   185103|  A. Kolarov|  Aleksandar Kolarov| 32|1985-11-10 00:00:00|\n",
      "|360|   138412|   J. Milner| James Philip Milner| 32|1986-01-04 00:00:00|\n",
      "+---+---------+------------+--------------------+---+-------------------+\n",
      "only showing top 20 rows\n",
      "\n"
     ]
    }
   ],
   "source": [
    "query = \"\"\"\n",
    "    select * \n",
    "    from fifa_table \n",
    "    where age=32\n",
    "\"\"\"\n",
    "\n",
    "spark.sql(query).show()"
   ]
  },
  {
   "cell_type": "markdown",
   "metadata": {},
   "source": [
    "## Superheros Use Case"
   ]
  },
  {
   "cell_type": "code",
   "execution_count": 17,
   "metadata": {},
   "outputs": [
    {
     "name": "stdout",
     "output_type": "stream",
     "text": [
      "22/10/09 00:43:54 WARN CSVHeaderChecker: CSV header does not conform to the schema.\n",
      " Header: , name, Gender, Eye color, Race, Hair color, Height, Publisher, Skin color, Alignment, Weight\n",
      " Schema: _c0, name, Gender, Eye color, Race, Hair color, Height, Publisher, Skin color, Alignment, Weight\n",
      "Expected: _c0 but found: \n",
      "CSV file: file:///Users/mylee/dev/pyspark-edureka-youtube/data/superheros.csv\n",
      "+---+-------------+------+---------+-----------------+----------+------+-----------------+----------+---------+------+\n",
      "|_c0|         name|Gender|Eye color|             Race|Hair color|Height|        Publisher|Skin color|Alignment|Weight|\n",
      "+---+-------------+------+---------+-----------------+----------+------+-----------------+----------+---------+------+\n",
      "|  0|       A-Bomb|  Male|   yellow|            Human|   No Hair| 203.0|    Marvel Comics|         -|     good| 441.0|\n",
      "|  1|   Abe Sapien|  Male|     blue|    Icthyo Sapien|   No Hair| 191.0|Dark Horse Comics|      blue|     good|  65.0|\n",
      "|  2|     Abin Sur|  Male|     blue|          Ungaran|   No Hair| 185.0|        DC Comics|       red|     good|  90.0|\n",
      "|  3|  Abomination|  Male|    green|Human / Radiation|   No Hair| 203.0|    Marvel Comics|         -|      bad| 441.0|\n",
      "|  4|      Abraxas|  Male|     blue|    Cosmic Entity|     Black| -99.0|    Marvel Comics|         -|      bad| -99.0|\n",
      "|  5|Absorbing Man|  Male|     blue|            Human|   No Hair| 193.0|    Marvel Comics|         -|      bad| 122.0|\n",
      "|  6|  Adam Monroe|  Male|     blue|                -|     Blond| -99.0|     NBC - Heroes|         -|     good| -99.0|\n",
      "|  7| Adam Strange|  Male|     blue|            Human|     Blond| 185.0|        DC Comics|         -|     good|  88.0|\n",
      "|  8|     Agent 13|Female|     blue|                -|     Blond| 173.0|    Marvel Comics|         -|     good|  61.0|\n",
      "|  9|    Agent Bob|  Male|    brown|            Human|     Brown| 178.0|    Marvel Comics|         -|     good|  81.0|\n",
      "+---+-------------+------+---------+-----------------+----------+------+-----------------+----------+---------+------+\n",
      "only showing top 10 rows\n",
      "\n"
     ]
    }
   ],
   "source": [
    "superhero_df = spark.read.csv(\"data/superheros.csv\", inferSchema=True, header=True)\n",
    "superhero_df.show(10)"
   ]
  },
  {
   "cell_type": "code",
   "execution_count": 18,
   "metadata": {},
   "outputs": [
    {
     "name": "stdout",
     "output_type": "stream",
     "text": [
      "root\n",
      " |-- _c0: integer (nullable = true)\n",
      " |-- name: string (nullable = true)\n",
      " |-- Gender: string (nullable = true)\n",
      " |-- Eye color: string (nullable = true)\n",
      " |-- Race: string (nullable = true)\n",
      " |-- Hair color: string (nullable = true)\n",
      " |-- Height: double (nullable = true)\n",
      " |-- Publisher: string (nullable = true)\n",
      " |-- Skin color: string (nullable = true)\n",
      " |-- Alignment: string (nullable = true)\n",
      " |-- Weight: double (nullable = true)\n",
      "\n"
     ]
    }
   ],
   "source": [
    "superhero_df.printSchema()"
   ]
  },
  {
   "cell_type": "code",
   "execution_count": 19,
   "metadata": {},
   "outputs": [
    {
     "name": "stdout",
     "output_type": "stream",
     "text": [
      "505\n",
      "200\n"
     ]
    }
   ],
   "source": [
    "print(superhero_df.filter(superhero_df.Gender == \"Male\").count())\n",
    "print(superhero_df.filter(superhero_df.Gender == \"Female\").count())"
   ]
  },
  {
   "cell_type": "code",
   "execution_count": 20,
   "metadata": {},
   "outputs": [
    {
     "name": "stdout",
     "output_type": "stream",
     "text": [
      "+------------------+-----+\n",
      "|              Race|count|\n",
      "+------------------+-----+\n",
      "|          Neyaphem|    1|\n",
      "|          Symbiote|    9|\n",
      "|        Kryptonian|    7|\n",
      "|           Ungaran|    1|\n",
      "|           Martian|    1|\n",
      "|         Strontian|    1|\n",
      "| Human / Radiation|   11|\n",
      "|   Kakarantharaian|    1|\n",
      "|         Metahuman|    2|\n",
      "|Dathomirian Zabrak|    1|\n",
      "|    Human / Cosmic|    2|\n",
      "|   Xenomorph XX121|    1|\n",
      "|            Animal|    4|\n",
      "|       Frost Giant|    2|\n",
      "|            Cyborg|   11|\n",
      "|           Inhuman|    4|\n",
      "|     God / Eternal|   14|\n",
      "|    Yoda's species|    1|\n",
      "|     Icthyo Sapien|    1|\n",
      "|            Rodian|    1|\n",
      "+------------------+-----+\n",
      "only showing top 20 rows\n",
      "\n"
     ]
    }
   ],
   "source": [
    "superhero_df.groupby(\"Race\").count().show()"
   ]
  },
  {
   "cell_type": "code",
   "execution_count": 21,
   "metadata": {},
   "outputs": [
    {
     "name": "stdout",
     "output_type": "stream",
     "text": [
      "+--------------+-----+\n",
      "|    Skin color|count|\n",
      "+--------------+-----+\n",
      "|        orange|    1|\n",
      "|    blue-white|    1|\n",
      "|          grey|    5|\n",
      "|         green|   21|\n",
      "|        yellow|    2|\n",
      "|orange / white|    1|\n",
      "|        silver|    5|\n",
      "|        purple|    3|\n",
      "|         white|    7|\n",
      "|          gray|    1|\n",
      "|   red / black|    1|\n",
      "|          pink|    2|\n",
      "|           red|    9|\n",
      "|          gold|    3|\n",
      "|             -|  662|\n",
      "|         black|    1|\n",
      "|          blue|    9|\n",
      "+--------------+-----+\n",
      "\n"
     ]
    }
   ],
   "source": [
    "superhero_df.groupby(\"Skin color\").count().show()"
   ]
  },
  {
   "cell_type": "code",
   "execution_count": 22,
   "metadata": {},
   "outputs": [
    {
     "name": "stdout",
     "output_type": "stream",
     "text": [
      "22/10/09 00:43:55 WARN CSVHeaderChecker: CSV header does not conform to the schema.\n",
      " Header: , name, Gender, Eye color, Race, Hair color, Height, Publisher, Skin color, Alignment, Weight\n",
      " Schema: _c0, name, Gender, Eye color, Race, Hair color, Height, Publisher, Skin color, Alignment, Weight\n",
      "Expected: _c0 but found: \n",
      "CSV file: file:///Users/mylee/dev/pyspark-edureka-youtube/data/superheros.csv\n",
      "+---+--------------+------+---------+-----------------+----------+------+-------------+----------+---------+------+\n",
      "|_c0|          name|Gender|Eye color|             Race|Hair color|Height|    Publisher|Skin color|Alignment|Weight|\n",
      "+---+--------------+------+---------+-----------------+----------+------+-------------+----------+---------+------+\n",
      "|575|     Sasquatch|  Male|      red|                -|    Orange| 305.0|Marvel Comics|         -|     good| 900.0|\n",
      "|373|    Juggernaut|  Male|     blue|            Human|       Red| 287.0|Marvel Comics|         -|  neutral| 855.0|\n",
      "|203|      Darkseid|  Male|      red|          New God|   No Hair| 267.0|    DC Comics|      grey|      bad| 817.0|\n",
      "|549|      Red Hulk|  Male|   yellow|Human / Radiation|     Black| 213.0|Marvel Comics|       red|  neutral| 630.0|\n",
      "|283|       Giganta|Female|    green|                -|       Red|  62.5|    DC Comics|         -|      bad| 630.0|\n",
      "|331|          Hulk|  Male|    green|Human / Radiation|     Green| 244.0|Marvel Comics|     green|     good| 630.0|\n",
      "|119|      Bloodaxe|Female|     blue|            Human|     Brown| 218.0|Marvel Comics|         -|      bad| 495.0|\n",
      "|718|     Wolfsbane|Female|    green|                -|    Auburn| 366.0|Marvel Comics|         -|     good| 473.0|\n",
      "|657|        Thanos|  Male|      red|          Eternal|   No Hair| 201.0|Marvel Comics|    purple|      bad| 443.0|\n",
      "|  0|        A-Bomb|  Male|   yellow|            Human|   No Hair| 203.0|Marvel Comics|         -|     good| 441.0|\n",
      "|  3|   Abomination|  Male|    green|Human / Radiation|   No Hair| 203.0|Marvel Comics|         -|      bad| 441.0|\n",
      "|611|Solomon Grundy|  Male|    black|           Zombie|     White| 279.0|    DC Comics|         -|      bad| 437.0|\n",
      "|229|      Doomsday|  Male|      red|            Alien|     White| 244.0|    DC Comics|         -|      bad| 412.0|\n",
      "|614|         Spawn|  Male|    brown|            Demon|     Black| 211.0| Image Comics|         -|     good| 405.0|\n",
      "|504|     Onslaught|  Male|      red|           Mutant|   No Hair| 305.0|Marvel Comics|         -|      bad| 405.0|\n",
      "|217|     Destroyer|  Male|        -|                -|         -| 188.0|Marvel Comics|         -|      bad| 383.0|\n",
      "|422|   Machine Man|     -|      red|                -|     Black| 183.0|Marvel Comics|         -|     good| 383.0|\n",
      "|409|  Living Brain|     -|   yellow|                -|         -| 198.0|Marvel Comics|         -|      bad| 360.0|\n",
      "| 33|    Anti-Venom|  Male|     blue|         Symbiote|     Blond| 229.0|Marvel Comics|         -|        -| 358.0|\n",
      "|386|   Killer Croc|  Male|      red|        Metahuman|   No Hair| 244.0|    DC Comics|     green|      bad| 356.0|\n",
      "+---+--------------+------+---------+-----------------+----------+------+-------------+----------+---------+------+\n",
      "only showing top 20 rows\n",
      "\n"
     ]
    }
   ],
   "source": [
    "superhero_df.sort((superhero_df.Weight).desc()).show()"
   ]
  },
  {
   "cell_type": "code",
   "execution_count": 23,
   "metadata": {},
   "outputs": [
    {
     "name": "stdout",
     "output_type": "stream",
     "text": [
      "215\n"
     ]
    }
   ],
   "source": [
    "DC_heros = superhero_df.filter(superhero_df.Publisher == \"DC Comics\")\n",
    "print(DC_heros.count())"
   ]
  },
  {
   "cell_type": "code",
   "execution_count": 24,
   "metadata": {},
   "outputs": [
    {
     "name": "stdout",
     "output_type": "stream",
     "text": [
      "+-----------------+-----+\n",
      "|        Publisher|count|\n",
      "+-----------------+-----+\n",
      "|    Marvel Comics|  388|\n",
      "|        DC Comics|  215|\n",
      "|     NBC - Heroes|   19|\n",
      "|Dark Horse Comics|   18|\n",
      "|             null|   15|\n",
      "|     George Lucas|   14|\n",
      "|     Image Comics|   14|\n",
      "|    HarperCollins|    6|\n",
      "|        Star Trek|    6|\n",
      "|     Team Epic TV|    5|\n",
      "|             SyFy|    5|\n",
      "|      Icon Comics|    4|\n",
      "|   IDW Publishing|    4|\n",
      "|         Shueisha|    4|\n",
      "|      ABC Studios|    4|\n",
      "|        Wildstorm|    3|\n",
      "|    Sony Pictures|    2|\n",
      "|        Rebellion|    1|\n",
      "| J. R. R. Tolkien|    1|\n",
      "|        Microsoft|    1|\n",
      "|       South Park|    1|\n",
      "|    J. K. Rowling|    1|\n",
      "|      Titan Books|    1|\n",
      "|Universal Studios|    1|\n",
      "|    Hanna-Barbera|    1|\n",
      "+-----------------+-----+\n",
      "\n"
     ]
    }
   ],
   "source": [
    "# superhero_df.sort((superhero_df.Weight).desc()).show()\n",
    "from pyspark.sql.functions import sum, col, desc\n",
    "\n",
    "superhero_df.groupby(\"Publisher\").count().sort(desc(\"count\")).show(30)"
   ]
  },
  {
   "cell_type": "code",
   "execution_count": 25,
   "metadata": {},
   "outputs": [
    {
     "name": "stdout",
     "output_type": "stream",
     "text": [
      "22/10/09 00:43:56 WARN CSVHeaderChecker: CSV header does not conform to the schema.\n",
      " Header: , name, Gender, Eye color, Race, Hair color, Height, Publisher, Skin color, Alignment, Weight\n",
      " Schema: _c0, name, Gender, Eye color, Race, Hair color, Height, Publisher, Skin color, Alignment, Weight\n",
      "Expected: _c0 but found: \n",
      "CSV file: file:///Users/mylee/dev/pyspark-edureka-youtube/data/superheros.csv\n",
      "+---+------------+------+---------+-----+----------+------+-------------+----------+---------+------+\n",
      "|_c0|        name|Gender|Eye color| Race|Hair color|Height|    Publisher|Skin color|Alignment|Weight|\n",
      "+---+------------+------+---------+-----+----------+------+-------------+----------+---------+------+\n",
      "|309|Harry Potter|  Male|    green|Human|     Black| -99.0|J. K. Rowling|         -|     good| -99.0|\n",
      "+---+------------+------+---------+-----+----------+------+-------------+----------+---------+------+\n",
      "\n"
     ]
    }
   ],
   "source": [
    "superhero_df.filter(superhero_df.Publisher == \"J. K. Rowling\").show()"
   ]
  },
  {
   "cell_type": "code",
   "execution_count": 26,
   "metadata": {},
   "outputs": [
    {
     "name": "stdout",
     "output_type": "stream",
     "text": [
      "22/10/09 00:43:56 WARN CSVHeaderChecker: CSV header does not conform to the schema.\n",
      " Header: , name, Gender, Eye color, Race, Hair color, Height, Publisher, Skin color, Alignment, Weight\n",
      " Schema: _c0, name, Gender, Eye color, Race, Hair color, Height, Publisher, Skin color, Alignment, Weight\n",
      "Expected: _c0 but found: \n",
      "CSV file: file:///Users/mylee/dev/pyspark-edureka-youtube/data/superheros.csv\n",
      "+---+-----------------+------+---------+-----+----------+------+----------+----------+---------+------+\n",
      "|_c0|             name|Gender|Eye color| Race|Hair color|Height| Publisher|Skin color|Alignment|Weight|\n",
      "+---+-----------------+------+---------+-----+----------+------+----------+----------+---------+------+\n",
      "|153|Captain Hindsight|  Male|        -|Human|     Black| -99.0|South Park|         -|     good| -99.0|\n",
      "+---+-----------------+------+---------+-----+----------+------+----------+----------+---------+------+\n",
      "\n"
     ]
    }
   ],
   "source": [
    "superhero_df.filter(superhero_df.Publisher == \"South Park\").show()"
   ]
  },
  {
   "cell_type": "code",
   "execution_count": 27,
   "metadata": {},
   "outputs": [],
   "source": [
    "superhero_df.registerTempTable(\"superhero_table\")"
   ]
  },
  {
   "cell_type": "code",
   "execution_count": 28,
   "metadata": {},
   "outputs": [
    {
     "name": "stdout",
     "output_type": "stream",
     "text": [
      "+-----------------+-----+\n",
      "|        publisher|count|\n",
      "+-----------------+-----+\n",
      "|    Marvel Comics|  388|\n",
      "|        DC Comics|  215|\n",
      "|     NBC - Heroes|   19|\n",
      "|Dark Horse Comics|   18|\n",
      "|     Image Comics|   14|\n",
      "|     George Lucas|   14|\n",
      "|    HarperCollins|    6|\n",
      "|        Star Trek|    6|\n",
      "|             SyFy|    5|\n",
      "|     Team Epic TV|    5|\n",
      "|      ABC Studios|    4|\n",
      "|      Icon Comics|    4|\n",
      "|   IDW Publishing|    4|\n",
      "|         Shueisha|    4|\n",
      "|        Wildstorm|    3|\n",
      "|    Sony Pictures|    2|\n",
      "|        Rebellion|    1|\n",
      "| J. R. R. Tolkien|    1|\n",
      "|       South Park|    1|\n",
      "|      Titan Books|    1|\n",
      "+-----------------+-----+\n",
      "only showing top 20 rows\n",
      "\n"
     ]
    }
   ],
   "source": [
    "query = \"\"\"\n",
    "select publisher, count(publisher) as count \n",
    "from superhero_table \n",
    "group by 1 \n",
    "order by 2 desc\n",
    "\"\"\"\n",
    "\n",
    "spark.sql(query).show()"
   ]
  },
  {
   "cell_type": "code",
   "execution_count": null,
   "metadata": {},
   "outputs": [],
   "source": []
  }
 ],
 "metadata": {
  "kernelspec": {
   "display_name": "Python 3.10.4 ('pyspark')",
   "language": "python",
   "name": "python3"
  },
  "language_info": {
   "codemirror_mode": {
    "name": "ipython",
    "version": 3
   },
   "file_extension": ".py",
   "mimetype": "text/x-python",
   "name": "python",
   "nbconvert_exporter": "python",
   "pygments_lexer": "ipython3",
   "version": "3.10.4"
  },
  "orig_nbformat": 4,
  "vscode": {
   "interpreter": {
    "hash": "ebffaf55a6174f7b75557055c60ed382e8e9322a57afdb041521a469e3798192"
   }
  }
 },
 "nbformat": 4,
 "nbformat_minor": 2
}
