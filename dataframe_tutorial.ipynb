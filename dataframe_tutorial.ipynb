{
 "cells": [
  {
   "cell_type": "code",
   "execution_count": null,
   "metadata": {},
   "outputs": [],
   "source": [
    "# https://www.youtube.com/watch?v=dq73Ghk3MQg&list=PL9ooVrP1hQOEBF5zdCdoMs2l1wws6be2X&index=5"
   ]
  },
  {
   "cell_type": "code",
   "execution_count": 3,
   "metadata": {},
   "outputs": [],
   "source": [
    "from pyspark.sql import *\n",
    "\n",
    "Employee = Row(\"firstName\", \"lastName\", \"email\", \"salary\")\n",
    "\n",
    "employee1 = Employee(\"a\", \"ln_a\", \"a1\", 100)\n",
    "employee2 = Employee(\"b\", \"ln_b\", \"b1\", 200)\n",
    "employee3 = Employee(\"c\", None, \"c1\", 300)\n",
    "employee4 = Employee(\"d\", \"ln_d\", \"d1\", 400)\n",
    "employee5 = Employee(\"e\", \"ln_e\", \"e1\", 500)\n",
    "\n",
    "department1 = Row(id=\"123\", name=\"HR\")\n",
    "department1 = Row(id=\"456\", name=\"OPS\")\n",
    "department1 = Row(id=\"789\", name=\"FN\")\n",
    "department1 = Row(id=\"101\", name=\"DEV\")"
   ]
  },
  {
   "cell_type": "code",
   "execution_count": 5,
   "metadata": {},
   "outputs": [
    {
     "name": "stdout",
     "output_type": "stream",
     "text": [
      "firstName\n"
     ]
    }
   ],
   "source": [
    "print(Employee[0])"
   ]
  },
  {
   "cell_type": "code",
   "execution_count": null,
   "metadata": {},
   "outputs": [],
   "source": [
    "departmentWithEmployees1 = Row(department=department1, employees=[employee1, employee2, employee5])\n"
   ]
  }
 ],
 "metadata": {
  "kernelspec": {
   "display_name": "Python 3.10.4 ('pyspark')",
   "language": "python",
   "name": "python3"
  },
  "language_info": {
   "codemirror_mode": {
    "name": "ipython",
    "version": 3
   },
   "file_extension": ".py",
   "mimetype": "text/x-python",
   "name": "python",
   "nbconvert_exporter": "python",
   "pygments_lexer": "ipython3",
   "version": "3.10.4"
  },
  "orig_nbformat": 4,
  "vscode": {
   "interpreter": {
    "hash": "ebffaf55a6174f7b75557055c60ed382e8e9322a57afdb041521a469e3798192"
   }
  }
 },
 "nbformat": 4,
 "nbformat_minor": 2
}
